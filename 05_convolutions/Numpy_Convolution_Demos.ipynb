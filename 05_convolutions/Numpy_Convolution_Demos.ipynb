{
 "cells": [
  {
   "cell_type": "markdown",
   "metadata": {},
   "source": [
    "# Convolution demos"
   ]
  },
  {
   "cell_type": "markdown",
   "metadata": {},
   "source": [
    "In this notebook, we use the batch, multi-channel convolution operation implemented in Numpy (that you can find [here](../lincoln/lincoln/conv.py)) to train a small convolutional neural network to more than 90% accuracy on MNIST."
   ]
  },
  {
   "cell_type": "code",
   "execution_count": 2,
   "metadata": {},
   "outputs": [],
   "source": [
    "import numpy as np\n",
    "\n",
    "import lincoln\n",
    "from lincoln.layers import Dense\n",
    "from lincoln.losses import SoftmaxCrossEntropy, MeanSquaredError\n",
    "from lincoln.optimizers import Optimizer, SGD, SGDMomentum\n",
    "from lincoln.activations import Sigmoid, Tanh, Linear, ReLU\n",
    "from lincoln.network import NeuralNetwork\n",
    "from lincoln.train import Trainer\n",
    "from lincoln.utils import mnist\n",
    "from lincoln.layers import Conv2D\n",
    "\n",
    "X_train, y_train, X_test, y_test = mnist.load()"
   ]
  },
  {
   "cell_type": "code",
   "execution_count": 3,
   "metadata": {},
   "outputs": [],
   "source": [
    "%load_ext autoreload\n",
    "%autoreload 2"
   ]
  },
  {
   "cell_type": "code",
   "execution_count": 4,
   "metadata": {},
   "outputs": [],
   "source": [
    "X_train, X_test = X_train - np.mean(X_train), X_test - np.mean(X_train)\n",
    "X_train, X_test = X_train / np.std(X_train), X_test / np.std(X_train)"
   ]
  },
  {
   "cell_type": "code",
   "execution_count": 5,
   "metadata": {},
   "outputs": [],
   "source": [
    "X_train_conv, X_test_conv = X_train.reshape(-1, 1, 28, 28), X_test.reshape(-1, 1, 28, 28)"
   ]
  },
  {
   "cell_type": "code",
   "execution_count": 6,
   "metadata": {},
   "outputs": [],
   "source": [
    "num_labels = len(y_train)\n",
    "train_labels = np.zeros((num_labels, 10))\n",
    "for i in range(num_labels):\n",
    "    train_labels[i][y_train[i]] = 1\n",
    "\n",
    "num_labels = len(y_test)\n",
    "test_labels = np.zeros((num_labels, 10))\n",
    "for i in range(num_labels):\n",
    "    test_labels[i][y_test[i]] = 1"
   ]
  },
  {
   "cell_type": "code",
   "execution_count": 7,
   "metadata": {},
   "outputs": [],
   "source": [
    "def calc_accuracy_model(model, test_set):\n",
    "    return print(f'''The model validation accuracy is: \n",
    "    {np.equal(np.argmax(model.forward(test_set, inference=True), axis=1), y_test).sum() * 100.0 / test_set.shape[0]:.2f}%''')"
   ]
  },
  {
   "cell_type": "markdown",
   "metadata": {},
   "source": [
    "# CNN from scratch"
   ]
  },
  {
   "cell_type": "code",
   "execution_count": 8,
   "metadata": {},
   "outputs": [
    {
     "name": "stdout",
     "output_type": "stream",
     "text": [
      "batch 0 loss 31.191501893742398\n",
      "batch 10 loss 14.150390490519676\n",
      "batch 20 loss 8.507022908673962\n",
      "batch 30 loss 9.816084637419738\n",
      "batch 40 loss 2.7069292896566806\n",
      "batch 50 loss 5.039130992880024\n",
      "batch 60 loss 3.8413244521210697\n",
      "batch 70 loss 8.473928496704705\n",
      "batch 80 loss 5.377665360919979\n",
      "batch 90 loss 2.3822865877907407\n",
      "batch 100 loss 3.9719645853900385\n",
      "Validation accuracy after 100 batches is 86.88%\n",
      "batch 110 loss 7.9747190608183685\n",
      "batch 120 loss 7.077668956662975\n",
      "batch 130 loss 6.216995112179712\n",
      "batch 140 loss 2.964481594125498\n",
      "batch 150 loss 10.53799052041313\n",
      "batch 160 loss 4.606493076829719\n",
      "batch 170 loss 4.76040145549784\n",
      "batch 180 loss 4.545511615017702\n",
      "batch 190 loss 5.031739074892001\n",
      "batch 200 loss 6.216979767439407\n",
      "Validation accuracy after 200 batches is 84.74%\n",
      "batch 210 loss 3.453877699981557\n",
      "batch 220 loss 4.148922365607597\n",
      "batch 230 loss 4.296710387843259\n",
      "batch 240 loss 3.639397773886752\n",
      "batch 250 loss 3.409146241965744\n",
      "batch 260 loss 6.400507715600272\n",
      "batch 270 loss 3.340894046830621\n",
      "batch 280 loss 5.132168728789798\n",
      "batch 290 loss 6.344269397913438\n",
      "batch 300 loss 1.7591355155732347\n",
      "Validation accuracy after 300 batches is 87.92%\n",
      "batch 310 loss 4.730643195006776\n",
      "batch 320 loss 1.4361470017124027\n",
      "batch 330 loss 1.7208421454772795\n",
      "batch 340 loss 2.0723265950087373\n",
      "batch 350 loss 4.846034409929735\n",
      "batch 360 loss 6.533360453255441\n",
      "batch 370 loss 5.526204252584345\n",
      "batch 380 loss 3.2541405534354126\n",
      "batch 390 loss 2.673258964123917\n",
      "batch 400 loss 4.656219051209453\n",
      "Validation accuracy after 400 batches is 88.49%\n",
      "batch 410 loss 3.0009817061249553\n",
      "batch 420 loss 3.470164104133586\n",
      "batch 430 loss 2.7190294813896263\n",
      "batch 440 loss 4.547400296801686\n",
      "batch 450 loss 8.486137538670924\n",
      "batch 460 loss 3.4705956823573016\n",
      "batch 470 loss 3.5469055658344626\n",
      "batch 480 loss 4.145536059607087\n",
      "batch 490 loss 2.0415102426615266\n",
      "batch 500 loss 4.846522156940335\n",
      "Validation accuracy after 500 batches is 88.69%\n",
      "batch 510 loss 3.3720201640803897\n",
      "batch 520 loss 1.6172293575339516\n",
      "batch 530 loss 2.6388237703507196\n",
      "batch 540 loss 3.4398620063893994\n",
      "batch 550 loss 1.3886265402651652\n",
      "batch 560 loss 2.7631284909909235\n",
      "batch 570 loss 2.1121197687952464\n",
      "batch 580 loss 2.4496067355774014\n",
      "batch 590 loss 3.6501835985151483\n",
      "batch 600 loss 2.5493968191663035\n",
      "Validation accuracy after 600 batches is 91.07%\n",
      "batch 610 loss 4.064398882520072\n",
      "batch 620 loss 4.144653181237207\n",
      "batch 630 loss 6.216979765026212\n",
      "batch 640 loss 4.296649361439423\n",
      "batch 650 loss 4.669550621182244\n",
      "batch 660 loss 5.082386696445108\n",
      "batch 670 loss 2.072393526728547\n",
      "batch 680 loss 2.3949189084358937\n",
      "batch 690 loss 3.7957787320064806\n",
      "batch 700 loss 2.0723265950087377\n",
      "Validation accuracy after 700 batches is 88.83%\n",
      "batch 710 loss 2.6669240987653695\n",
      "batch 720 loss 1.381551067216312\n",
      "batch 730 loss 4.504799980620232\n",
      "batch 740 loss 3.1960748431857477\n",
      "batch 750 loss 2.7631032315891852\n",
      "batch 760 loss 0.7713738920184006\n",
      "batch 770 loss 4.094985702696035\n",
      "batch 780 loss 3.453891276546225\n",
      "batch 790 loss 2.9858390736098195\n",
      "batch 800 loss 2.328764185931003\n",
      "Validation accuracy after 800 batches is 89.63%\n",
      "batch 810 loss 3.1138950359205917\n",
      "batch 820 loss 2.0726974668902507\n",
      "batch 830 loss 3.327536972358238\n",
      "batch 840 loss 3.722019750926823\n",
      "batch 850 loss 2.792961933593739\n",
      "batch 860 loss 1.3815578548693854\n",
      "batch 870 loss 2.4842367143511126\n",
      "batch 880 loss 2.072326596101759\n",
      "batch 890 loss 2.7631021233449835\n",
      "batch 900 loss 1.525319495251503\n",
      "Validation accuracy after 900 batches is 91.55%\n",
      "batch 910 loss 4.732303570959663\n",
      "batch 920 loss 3.7852242889662473\n",
      "batch 930 loss 0.6907759666334761\n",
      "batch 940 loss 4.05887554024908\n",
      "batch 950 loss 2.46058499527644\n",
      "batch 960 loss 2.190598984778472\n",
      "batch 970 loss 2.0757195612176083\n",
      "batch 980 loss 3.560785128291768\n",
      "batch 990 loss 5.903861055266266\n",
      "Validation loss after 1 epochs is 2.806\n"
     ]
    }
   ],
   "source": [
    "model = NeuralNetwork(\n",
    "    layers=[Conv2D(out_channels=16,\n",
    "                   param_size=5,\n",
    "                   dropout=0.8,\n",
    "                   weight_init=\"glorot\",\n",
    "                   flatten=True,\n",
    "                  activation=Tanh()),\n",
    "            Dense(neurons=10, \n",
    "                  activation=Linear())],\n",
    "            loss = SoftmaxCrossEntropy(), \n",
    "seed=20190402)\n",
    "\n",
    "trainer = Trainer(model, SGDMomentum(lr = 0.1, momentum=0.9))\n",
    "trainer.fit(X_train_conv, train_labels, X_test_conv, test_labels,\n",
    "            epochs = 1,\n",
    "            eval_every = 1,\n",
    "            seed=20190402,\n",
    "            batch_size=60,\n",
    "            conv_testing=True);"
   ]
  },
  {
   "cell_type": "code",
   "execution_count": 9,
   "metadata": {},
   "outputs": [
    {
     "name": "stdout",
     "output_type": "stream",
     "text": [
      "The model validation accuracy is: \n",
      "    92.66%\n"
     ]
    }
   ],
   "source": [
    "calc_accuracy_model(model, X_test_conv)"
   ]
  }
 ],
 "metadata": {
  "kernelspec": {
   "name": "pycharm-4d442ed8",
   "language": "python",
   "display_name": "PyCharm (DLFS_code)"
  },
  "language_info": {
   "codemirror_mode": {
    "name": "ipython",
    "version": 3
   },
   "file_extension": ".py",
   "mimetype": "text/x-python",
   "name": "python",
   "nbconvert_exporter": "python",
   "pygments_lexer": "ipython3",
   "version": "3.7.4"
  }
 },
 "nbformat": 4,
 "nbformat_minor": 2
}